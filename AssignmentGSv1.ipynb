{
 "cells": [
  {
   "cell_type": "markdown",
   "id": "331d2882-fa97-4e9b-b77f-819eb7e778fe",
   "metadata": {
    "tags": []
   },
   "source": [
    "# My Jupyter Notebook on IBM Watson "
   ]
  },
  {
   "cell_type": "markdown",
   "id": "e5a26a89-4493-410c-b3cd-c9d6813c4135",
   "metadata": {
    "tags": []
   },
   "source": [
    "**David Gustavo Soriano**<br>\n",
    "ITC Cluster Director"
   ]
  },
  {
   "cell_type": "markdown",
   "id": "9da17cfa-a093-47c7-80f4-44e4935ff00f",
   "metadata": {},
   "source": [
    "*I am interested in data science because of the relevance of big data, mobility and technology in general.*\n",
    "*Therefore it is important to understand, visualize and use data to make informed decisions.*"
   ]
  },
  {
   "cell_type": "markdown",
   "id": "64532bd5-f17c-493f-a516-ff61a4d0aff2",
   "metadata": {},
   "source": [
    "***This code create a list of numbers and output this list***"
   ]
  },
  {
   "cell_type": "code",
   "execution_count": 12,
   "id": "a088826e-407b-409f-925e-2f20c10cff4f",
   "metadata": {},
   "outputs": [
    {
     "name": "stdout",
     "output_type": "stream",
     "text": [
      "[0, 3, 5, 7]\n"
     ]
    }
   ],
   "source": [
    "numbers_list = [0,3,5,7]\n",
    "print(numbers_list)"
   ]
  },
  {
   "cell_type": "markdown",
   "id": "b3723053-1cad-4eff-9048-9068dab2698b",
   "metadata": {},
   "source": [
    "***\n",
    "1. Item 1\n",
    "1. Item 2\n",
    "1. Item 3\n",
    "***\n",
    "__[Yahoo Finance site](http://finance.yahoo.com)__"
   ]
  },
  {
   "cell_type": "code",
   "execution_count": null,
   "id": "b56b6546-2721-430f-9600-bcf86fafee43",
   "metadata": {},
   "outputs": [],
   "source": []
  }
 ],
 "metadata": {
  "kernelspec": {
   "display_name": "Python",
   "language": "python",
   "name": "conda-env-python-py"
  },
  "language_info": {
   "codemirror_mode": {
    "name": "ipython",
    "version": 3
   },
   "file_extension": ".py",
   "mimetype": "text/x-python",
   "name": "python",
   "nbconvert_exporter": "python",
   "pygments_lexer": "ipython3",
   "version": "3.7.12"
  }
 },
 "nbformat": 4,
 "nbformat_minor": 5
}
